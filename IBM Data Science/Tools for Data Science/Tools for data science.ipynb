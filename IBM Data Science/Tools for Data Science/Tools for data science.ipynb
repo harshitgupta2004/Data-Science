{
 "cells": [
  {
   "cell_type": "markdown",
   "metadata": {},
   "source": [
    "<center>\n",
    "    <img src=\"https://cf-courses-data.s3.us.cloud-object-storage.appdomain.cloud/IBMDeveloperSkillsNetwork-DS0105EN-SkillsNetwork/labs/Module2/images/SN_web_lightmode.png\" width=\"300\" alt=\"cognitiveclass.ai logo\">\n",
    "</center>\n"
   ]
  },
  {
   "cell_type": "markdown",
   "metadata": {},
   "source": [
    "#### Tools for Data Science\n"
   ]
  },
  {
   "cell_type": "markdown",
   "metadata": {
    "tags": []
   },
   "source": [
    "By HARSHIT GUPTA"
   ]
  },
  {
   "cell_type": "markdown",
   "metadata": {
    "tags": []
   },
   "source": [
    "From the starting days of my high school I started to develop a keen interest towards Data Science with Finance as my Domain. That is why I want to become a Data Scientist."
   ]
  },
  {
   "cell_type": "markdown",
   "metadata": {
    "tags": []
   },
   "source": [
    "Following are the Data Science languages: \n",
    "1. Python\n",
    "2. R\n",
    "3. Julia\n",
    "4. Java\n",
    "5. JavaScript\n",
    "6. Scala\n",
    "7. Go\n",
    "8. Matlab\n",
    "9. C/C++\n",
    "10. MySQL"
   ]
  },
  {
   "cell_type": "markdown",
   "metadata": {
    "tags": []
   },
   "source": [
    "Data Science Libraries:\n",
    "- Tensorflow\n",
    "- NumPy\n",
    "- SciPy \n",
    "- Pandas\n",
    "- Matplotlib \n",
    "- Keras\n",
    "- SciKit-Learn\n",
    "- PyTorch\n",
    "- Scrapy\n",
    "- BeautifulSoup\n",
    "- LightGBM\n",
    "- ELI5\n",
    "- Theano\n",
    "- NuPIC\n",
    "- Ramp\n",
    "- Pipenv\n",
    "- Bob\n",
    "- PyBrain\n",
    "- Caffe2\n",
    "- Chainer"
   ]
  },
  {
   "cell_type": "markdown",
   "metadata": {
    "tags": []
   },
   "source": [
    "|Tools for DS|\n",
    "|:---:|\n",
    "|SAS|\n",
    "|Apache Spark|\n",
    "|SQL|\n",
    "|Tableau|\n",
    "|MATLAB|\n",
    "|Excel|\n",
    "|GGPlot2|\n",
    "|Jupyter|\n",
    "|MatplotLib|\n",
    "|SciKit Learn|"
   ]
  },
  {
   "cell_type": "markdown",
   "metadata": {
    "tags": []
   },
   "source": [
    "## In python the arithmetic operators are as follows:\n",
    "### Addition\n",
    "`2 + 2 = 4`\n",
    "### Subtraction\n",
    "`2 - 2 = 0`\n",
    "### Multiplication\n",
    "`2 * 2 = 4`\n",
    "### Division\n",
    "`2 / 2 = 1`\n",
    "### exponentiation\n",
    "`2 ** 2 = 4`"
   ]
  },
  {
   "cell_type": "code",
   "execution_count": 2,
   "metadata": {
    "tags": []
   },
   "outputs": [
    {
     "data": {
      "text/plain": [
       "4"
      ]
     },
     "execution_count": 2,
     "metadata": {},
     "output_type": "execute_result"
    }
   ],
   "source": [
    "2 + 2"
   ]
  },
  {
   "cell_type": "code",
   "execution_count": 3,
   "metadata": {
    "tags": []
   },
   "outputs": [
    {
     "data": {
      "text/plain": [
       "4"
      ]
     },
     "execution_count": 3,
     "metadata": {},
     "output_type": "execute_result"
    }
   ],
   "source": [
    "2 * 2"
   ]
  },
  {
   "cell_type": "code",
   "execution_count": 4,
   "metadata": {
    "tags": []
   },
   "outputs": [
    {
     "data": {
      "text/plain": [
       "1.8"
      ]
     },
     "execution_count": 4,
     "metadata": {},
     "output_type": "execute_result"
    }
   ],
   "source": [
    "min = 108\n",
    "hours = min / 60\n",
    "hours"
   ]
  },
  {
   "cell_type": "markdown",
   "metadata": {},
   "source": [
    "### Objectives\n",
    "* Collecting data\n",
    "* Processing data\n",
    "* Exploring and visualizing data\n",
    "* Analyzing (data) and/or applying machine learning (to data)\n",
    "* Deciding (or planning) based on acquired insight"
   ]
  }
 ],
 "metadata": {
  "kernelspec": {
   "display_name": "Python",
   "language": "python",
   "name": "conda-env-python-py"
  },
  "language_info": {
   "codemirror_mode": {
    "name": "ipython",
    "version": 3
   },
   "file_extension": ".py",
   "mimetype": "text/x-python",
   "name": "python",
   "nbconvert_exporter": "python",
   "pygments_lexer": "ipython3",
   "version": "3.7.12"
  }
 },
 "nbformat": 4,
 "nbformat_minor": 4
}
